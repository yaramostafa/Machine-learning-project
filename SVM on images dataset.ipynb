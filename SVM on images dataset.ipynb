{
 "cells": [
  {
   "cell_type": "markdown",
   "id": "9db3cede",
   "metadata": {},
   "source": [
    "# Support Vector Machine On Digits and Faces data"
   ]
  },
  {
   "cell_type": "markdown",
   "id": "bf79d7a4",
   "metadata": {},
   "source": [
    "### Initializing needed libraries "
   ]
  },
  {
   "cell_type": "code",
   "execution_count": 4,
   "id": "bcf810c6",
   "metadata": {},
   "outputs": [],
   "source": [
    "import numpy as np\n",
    "from matplotlib import pyplot\n",
    "import sys\n",
    "import numpy as np\n",
    "from sklearn.neural_network import MLPClassifier\n",
    "import warnings\n",
    "import matplotlib.pyplot as plt\n",
    "from sklearn.svm import SVC\n",
    "from sklearn import metrics\n",
    "import gc\n",
    "import cv2"
   ]
  },
  {
   "cell_type": "markdown",
   "id": "fe3763a0",
   "metadata": {},
   "source": [
    "### Reading Datasets "
   ]
  },
  {
   "cell_type": "code",
   "execution_count": 5,
   "id": "da89b715",
   "metadata": {},
   "outputs": [],
   "source": [
    "def loadLabelsFile(filename, n):\n",
    "  \"\"\"\n",
    "  Reads n labels from a file and returns a list of integers.\n",
    "  \"\"\"\n",
    "  labels = []\n",
    "\n",
    "  with open(filename, 'r', encoding='utf-8') as file:\n",
    "    for line in file:\n",
    "      if line == '':\n",
    "          break\n",
    "      labels.append(int(line))\n",
    "  return labels"
   ]
  },
  {
   "cell_type": "code",
   "execution_count": 6,
   "id": "97d25828",
   "metadata": {},
   "outputs": [],
   "source": [
    "#Each digit is 28x28 pixels, and each face/non-face image is 60x74 , this is an error data is 60x70 not 74\n",
    "def digit_train():\n",
    "    train_digits_X = []\n",
    "\n",
    "    with open('./digitdata/trainingimages', 'r', encoding='utf-8') as file:\n",
    "\n",
    "        c = 0\n",
    "        datum = []\n",
    "        for line in file:\n",
    "            l =[]\n",
    "            for char in line:\n",
    "                if char == ' ':\n",
    "                    l.append(int(0))\n",
    "                elif char == '+':\n",
    "                    l.append(int(1))\n",
    "                elif char == '#':\n",
    "                    l.append(int(2))\n",
    "            datum.append(l)\n",
    "            c=c+1\n",
    "            if c%28 == 0:\n",
    "                train_digits_X.append(datum)\n",
    "                datum =[]\n",
    "\n",
    "\n",
    "    train_digits_X = np.array(train_digits_X,dtype=np.int32)\n",
    "    train_digits_Y = loadLabelsFile(\"./digitdata/traininglabels\", 5000)\n",
    "\n",
    "    return train_digits_X,train_digits_Y\n",
    "\n",
    "\n",
    "def digit_test():\n",
    "    train_digits_X = []\n",
    "\n",
    "    with open('./digitdata/testimages', 'r', encoding='utf-8') as file:\n",
    "\n",
    "        c = 0\n",
    "        datum = []\n",
    "        for line in file:\n",
    "            l =[]\n",
    "            for char in line:\n",
    "                if char ==' ':\n",
    "                    l.append(int(0))\n",
    "                elif char == '+':\n",
    "                    l.append(int(1))\n",
    "                elif char == '#':\n",
    "                    l.append(int(2))\n",
    "\n",
    "            datum.append(l)\n",
    "            c=c+1\n",
    "            if c%28 == 0:\n",
    "                train_digits_X.append(datum)\n",
    "                datum =[]\n",
    "\n",
    "    train_digits_X = np.array(train_digits_X,dtype=np.int32)\n",
    "    train_digits_Y = loadLabelsFile(\"./digitdata/testlabels\", 1000)\n",
    "\n",
    "\n",
    "    return train_digits_X,train_digits_Y\n",
    "\n",
    "\n",
    "\n",
    "def digit_valid():\n",
    "    train_digits_X = []\n",
    "\n",
    "    with open('./digitdata/validationimages', 'r', encoding='utf-8') as file:\n",
    "\n",
    "        c = 0\n",
    "        datum = []\n",
    "        for line in file:\n",
    "            l =[]\n",
    "            for char in line:\n",
    "                if char ==' ':\n",
    "                    l.append(int(0))\n",
    "                elif  char == '+':\n",
    "                    l.append(int(1))\n",
    "                elif char == '#':\n",
    "                    l.append(int(2))\n",
    "            datum.append(l)\n",
    "            c=c+1\n",
    "            if c%28 == 0:\n",
    "                train_digits_X.append(datum)\n",
    "                datum =[]\n",
    "\n",
    "    train_digits_X = np.array(train_digits_X,dtype=np.int32)\n",
    "    train_digits_Y = loadLabelsFile(\"./digitdata/validationlabels\", 1000)\n",
    "    return train_digits_X , train_digits_Y\n",
    "\n",
    "\n",
    "\n",
    "\n",
    "def face_train():\n",
    "    train_digits_X = []\n",
    "\n",
    "    with open('./facedata/facedatatrain', 'r', encoding='utf-8') as file:\n",
    "\n",
    "        c = 0\n",
    "        datum = []\n",
    "        for line in file:\n",
    "            l =[]\n",
    "            for char in line:\n",
    "                if char ==' ':\n",
    "                    l.append(int(0))\n",
    "                elif  char == '+':\n",
    "                    l.append(int(1))\n",
    "                elif char == '#':\n",
    "                    l.append(int(2))\n",
    "            datum.append(l)\n",
    "            c=c+1\n",
    "            if c%70 == 0:\n",
    "                train_digits_X.append(datum)\n",
    "                datum =[]\n",
    "\n",
    "    train_digits_X = np.array(train_digits_X,dtype=np.int32)\n",
    "    train_digits_Y = loadLabelsFile(\"./facedata/facedatatrainlabels\", 451)\n",
    "\n",
    "\n",
    "    return train_digits_X , train_digits_Y\n",
    "\n",
    "\n",
    "\n",
    "def face_valid():\n",
    "    train_digits_X = []\n",
    "\n",
    "    with open('./facedata/facedatavalidation', 'r', encoding='utf-8') as file:\n",
    "\n",
    "        c = 0\n",
    "        datum = []\n",
    "        for line in file:\n",
    "            l =[]\n",
    "            for char in line:\n",
    "                if char ==' ':\n",
    "                    l.append(int(0))\n",
    "                elif  char == '+':\n",
    "                    l.append(int(1))\n",
    "                elif char == '#':\n",
    "                    l.append(int(2))\n",
    "            datum.append(l)\n",
    "            c=c+1\n",
    "            if c%70 == 0:\n",
    "                train_digits_X.append(datum)\n",
    "                datum =[]\n",
    "\n",
    "    train_digits_X = np.array(train_digits_X,dtype=np.int32)\n",
    "    train_digits_Y = loadLabelsFile(\"./facedata/facedatavalidationlabels\", 301)\n",
    "    return train_digits_X , train_digits_Y\n",
    "\n",
    "\n",
    "\n",
    "\n",
    "def face_test():\n",
    "    train_digits_X = []\n",
    "\n",
    "    with open('./facedata/facedatatest', 'r', encoding='utf-8') as file:\n",
    "\n",
    "        c = 0\n",
    "        datum = []\n",
    "        for line in file:\n",
    "            l =[]\n",
    "            for char in line:\n",
    "                if char ==' ':\n",
    "                    l.append(int(0))\n",
    "                elif  char == '+':\n",
    "                    l.append(int(1))\n",
    "                elif char == '#':\n",
    "                    l.append(int(2))\n",
    "            datum.append(l)\n",
    "            c=c+1\n",
    "            if c%70 == 0:\n",
    "                train_digits_X.append(datum)\n",
    "                datum =[]\n",
    "\n",
    "    train_digits_X = np.array(train_digits_X,dtype=np.int32)\n",
    "    train_digits_Y = loadLabelsFile(\"./facedata/facedatatestlabels\", 150)\n",
    "    return train_digits_X , train_digits_Y\n",
    "\n",
    "#451 60 70"
   ]
  },
  {
   "cell_type": "markdown",
   "id": "115b20bb",
   "metadata": {},
   "source": [
    "### Function to visualizes first 9 samples of each dataset"
   ]
  },
  {
   "cell_type": "code",
   "execution_count": 7,
   "id": "d71e8e52",
   "metadata": {},
   "outputs": [],
   "source": [
    "from matplotlib import pyplot as plt\n",
    "\n",
    "def visualize(t_x):\n",
    "    #visualize first 9 instances of dataset\n",
    "    for i in range(9):\n",
    "        pyplot.subplot(330 + 1 + i)\n",
    "        pyplot.imshow(t_x[i], cmap=pyplot.get_cmap('gray'))\n",
    "    pyplot.show()\n",
    "\n",
    "\n",
    "#Each digit is 28x28 pixels, and each face/non-face image is 60x74 , this is an error data is 60x70 not 74\n"
   ]
  },
  {
   "cell_type": "markdown",
   "id": "6d6d6fa9",
   "metadata": {},
   "source": [
    "### SVM with different Kernels and Cost Factors"
   ]
  },
  {
   "cell_type": "code",
   "execution_count": 56,
   "id": "1e383338",
   "metadata": {},
   "outputs": [],
   "source": [
    "def SVM(t_x,t_y,cv_x,cv_y,tst_x,tst_y) :    \n",
    "    flat_t_x = t_x.reshape(t_x.shape[0],t_x.shape[1]*t_x.shape[2])\n",
    "    flat_cv_x = cv_x.reshape(cv_x.shape[0],cv_x.shape[1]*cv_x.shape[2])\n",
    "    flat_tst_x = tst_x.reshape(tst_x.shape[0],tst_x.shape[1]*tst_x.shape[2])   \n",
    "    \n",
    "    #List to store accuracy scores in\n",
    "    SVM_Scores = []\n",
    "    \n",
    "    # an initial SVM model with rbf kernel and different values for c (Regularization parameter)\n",
    "    for i in [0.01, 0.1, 1, 10, 100, 1000]: \n",
    "        svm_c = SVC(kernel='poly',C=i, degree =2)\n",
    "        svm_c.fit(flat_t_x ,t_y)\n",
    "        SVM_Scores.append(svm_c.score(flat_cv_x,cv_y))\n",
    "        \n",
    "    highest_SVM = SVM_Scores.index(max(SVM_Scores))\n",
    "    \n",
    "    svm_c = SVC(kernel='rbf',C=highest_SVM)\n",
    "    svm_c.fit(flat_t_x,t_y)\n",
    "    test_score = svm_c.score(flat_tst_x,tst_y)\n",
    "    return  SVM_Scores, test_score\n",
    "    \n",
    "   # predictions = svm_linear.predict(flat_tst_x)   \n",
    "   #confusion = metrics.confusion_matrix(y_true = tst_y, y_pred = predictions)   \n",
    "   #accuracyScore = metrics.accuracy_score(y_true=tst_y, y_pred=predictions)\n",
    "   #return accuracyScore\n"
   ]
  },
  {
   "cell_type": "code",
   "execution_count": 57,
   "id": "7b7d7885",
   "metadata": {},
   "outputs": [],
   "source": [
    "def results(face_or_digit) :\n",
    "\n",
    "    if(face_or_digit==\"digit\"):\n",
    "        tr_x, tr_y = digit_train()\n",
    "        cv_x, cv_y = digit_valid()\n",
    "        tst_x, tst_y = digit_test()\n",
    "    else :\n",
    "        tr_x, tr_y = face_train()\n",
    "        cv_x, cv_y = face_valid()\n",
    "        tst_x, tst_y = face_test()\n",
    "        \n",
    "    # fit\n",
    "    #score_digit= SVM(tr_x, tr_y,cv_x,cv_y,tst_x,tst_y)\n",
    "    #print(score_digit*100, '%')\n",
    "    \n",
    "    score_digit, tst_score_digit = SVM(tr_x, tr_y, cv_x, cv_y, tst_x, tst_y)\n",
    "    highest_SVM = score_digit.index(max(score_digit)) \n",
    "    \n",
    "    plt.figure(figsize=(10, 6))\n",
    "    x = [0.01, 0.1, 1, 10, 100, 1000]\n",
    "    plt.plot(range(len(x)), score_digit, color='blue', linestyle='dashed', marker='o',\n",
    "             markerfacecolor='purple', markersize=10)\n",
    "    plt.xticks(range(len(x)), x)\n",
    "    plt.title(f'Score vs. cost factor(s) for {face_or_digit}')\n",
    "    plt.xlabel('C')\n",
    "    plt.ylabel('Score')\n",
    "    print(f\"Maximum score for {face_or_digit} : \", score_digit[highest_SVM]*100, \"at c\", x[highest_SVM])\n",
    "\n",
    "    plt.show()\n",
    "\n",
    "    print(f\"Training accuracy for {face_or_digit}: \", tst_score_digit * 100, '%')\n",
    "    "
   ]
  },
  {
   "cell_type": "code",
   "execution_count": 58,
   "id": "671bbc2a",
   "metadata": {},
   "outputs": [
    {
     "name": "stdout",
     "output_type": "stream",
     "text": [
      "digit sample data\n"
     ]
    },
    {
     "data": {
      "image/png": "[encoded data removed]",
      "text/plain": [
       "<Figure size 432x288 with 9 Axes>"
      ]
     },
     "metadata": {
      "needs_background": "light"
     },
     "output_type": "display_data"
    },
    {
     "name": "stdout",
     "output_type": "stream",
     "text": [
      "Maximum score for digit :  89.1\n",
      "Training accuracy for digit:  92.10000000000001 %\n"
     ]
    }
   ],
   "source": [
    "print(\"digit sample data\")\n",
    "visualize(digit_train()[0])\n",
    "results(\"digit\")"
   ]
  },
  {
   "cell_type": "code",
   "execution_count": 59,
   "id": "820de433",
   "metadata": {},
   "outputs": [
    {
     "name": "stdout",
     "output_type": "stream",
     "text": [
      "Face sample data\n"
     ]
    },
    {
     "data": {
      "image/png": "[encoded data removed]",
      "text/plain": [
       "<Figure size 432x288 with 9 Axes>"
      ]
     },
     "metadata": {
      "needs_background": "light"
     },
     "output_type": "display_data"
    },
    {
     "name": "stdout",
     "output_type": "stream",
     "text": [
      "Maximum score for face :  91.0299003322259\n",
      "Training accuracy for face:  90.0 %\n"
     ]
    }
   ],
   "source": [
    "print(\"Face sample data\")\n",
    "visualize(face_train()[0])\n",
    "results(\"face\")"
   ]
  },
  {
   "cell_type": "code",
   "execution_count": 83,
   "id": "8b803189",
   "metadata": {},
   "outputs": [
    {
     "data": {
      "text/plain": [
       "3097"
      ]
     },
     "execution_count": 83,
     "metadata": {},
     "output_type": "execute_result"
    }
   ],
   "source": [
    "gc.collect()"
   ]
  }
 ],
 "metadata": {
  "kernelspec": {
   "display_name": "Python 3 (ipykernel)",
   "language": "python",
   "name": "python3"
  },
  "language_info": {
   "codemirror_mode": {
    "name": "ipython",
    "version": 3
   },
   "file_extension": ".py",
   "mimetype": "text/x-python",
   "name": "python",
   "nbconvert_exporter": "python",
   "pygments_lexer": "ipython3",
   "version": "3.9.7"
  }
 },
 "nbformat": 4,
 "nbformat_minor": 5
}
